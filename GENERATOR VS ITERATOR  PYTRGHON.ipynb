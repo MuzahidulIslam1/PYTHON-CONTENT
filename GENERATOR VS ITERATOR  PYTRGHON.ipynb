{
 "cells": [
  {
   "cell_type": "markdown",
   "id": "36a3521c",
   "metadata": {},
   "source": [
    "### Q. . What is the difference between enclosing a list comprehension in square brackets and parentheses?"
   ]
  },
  {
   "cell_type": "code",
   "execution_count": 1,
   "id": "b4b9c39e",
   "metadata": {},
   "outputs": [
    {
     "data": {
      "text/plain": [
       "[0, 1, 2, 3, 4, 5, 6, 7, 8, 9]"
      ]
     },
     "execution_count": 1,
     "metadata": {},
     "output_type": "execute_result"
    }
   ],
   "source": [
    "\n",
    "lst = [i for i in range(10)]\n",
    "lst\n",
    "#List Comprehension with square brackets produces list.\n",
    "#List Comprehension with parentheses creates generators\n",
    "     "
   ]
  },
  {
   "cell_type": "code",
   "execution_count": 2,
   "id": "c961e9fe",
   "metadata": {},
   "outputs": [
    {
     "data": {
      "text/plain": [
       "<generator object <genexpr> at 0x00000167C2DF20B0>"
      ]
     },
     "execution_count": 2,
     "metadata": {},
     "output_type": "execute_result"
    }
   ],
   "source": [
    "#If you are familiar with list comprehensions, then this look likes it might create a tuple which is (1,2,3,4,....), \n",
    "#but it is actually a generator expression - this expression is a one time only iterator which will yield the values 1, 2, 3, 4.... in that order\n",
    "\n",
    "lstParanthesis = (i for i in range(10))\n",
    "lstParanthesis\n",
    "     "
   ]
  },
  {
   "cell_type": "code",
   "execution_count": 3,
   "id": "78377796",
   "metadata": {},
   "outputs": [
    {
     "data": {
      "text/plain": [
       "[0, 1, 2, 3, 4, 5, 6, 7, 8, 9]"
      ]
     },
     "execution_count": 3,
     "metadata": {},
     "output_type": "execute_result"
    }
   ],
   "source": [
    "\n",
    "list(lstParanthesis)"
   ]
  },
  {
   "cell_type": "markdown",
   "id": "42e2852f",
   "metadata": {},
   "source": [
    "### Q. What is the relationship between generators and iterators?"
   ]
  },
  {
   "cell_type": "markdown",
   "id": "2394096f",
   "metadata": {},
   "source": [
    "Ans. - An iterator is an object which contains a countable number of values and it is used to iterate over iterable objects like list, tuples etc\n",
    "Using an iterator- iter() keyword is used to create an iterator containing an iterable object. next() keyword is used to call the next element in the iterable object.\n",
    "\n",
    "- Generator\n",
    "It is another way of creating iterators in a simple way where it uses the keyword “yield” instead of returning it in a defined function Generators are implemented using a function Here, the yield function returns the data without affecting or exiting the function. It will return a sequence of data in an iterable format where we need to iterate over the sequence to use the data as they won’t store the entire sequenc"
   ]
  },
  {
   "cell_type": "code",
   "execution_count": 4,
   "id": "6781a7ca",
   "metadata": {},
   "outputs": [
    {
     "name": "stdout",
     "output_type": "stream",
     "text": [
      "Dog\n",
      "CAt\n",
      "Bear\n"
     ]
    }
   ],
   "source": [
    "\n",
    "# iterator\n",
    "iter_list = iter(['Dog', 'CAt', 'Bear'])\n",
    "print(next(iter_list))\n",
    "print(next(iter_list))\n",
    "print(next(iter_list))"
   ]
  },
  {
   "cell_type": "code",
   "execution_count": 5,
   "id": "433a8996",
   "metadata": {},
   "outputs": [],
   "source": [
    "\n",
    "# GEnerator \n",
    "\n",
    "def sq(n):\n",
    "    for i in range(1, n+1):\n",
    "        yield i*i\n",
    "     "
   ]
  },
  {
   "cell_type": "code",
   "execution_count": 6,
   "id": "af3c9c1c",
   "metadata": {},
   "outputs": [
    {
     "data": {
      "text/plain": [
       "<generator object sq at 0x00000167C2DF2430>"
      ]
     },
     "execution_count": 6,
     "metadata": {},
     "output_type": "execute_result"
    }
   ],
   "source": [
    "\n",
    "sq(6)"
   ]
  },
  {
   "cell_type": "code",
   "execution_count": 8,
   "id": "9947b1c6",
   "metadata": {},
   "outputs": [
    {
     "data": {
      "text/plain": [
       "<generator object sq at 0x00000167C2E8EDD0>"
      ]
     },
     "execution_count": 8,
     "metadata": {},
     "output_type": "execute_result"
    }
   ],
   "source": [
    "\n",
    "lst = sq(6)\n",
    "lst"
   ]
  },
  {
   "cell_type": "code",
   "execution_count": 9,
   "id": "3dc26fa2",
   "metadata": {},
   "outputs": [
    {
     "name": "stdout",
     "output_type": "stream",
     "text": [
      "1\n",
      "4\n",
      "9\n",
      "16\n"
     ]
    }
   ],
   "source": [
    "\n",
    "print(next(lst))\n",
    "print(next(lst))\n",
    "print(next(lst))\n",
    "print(next(lst))"
   ]
  },
  {
   "cell_type": "markdown",
   "id": "248066dd",
   "metadata": {},
   "source": [
    "### Q. What are the signs that a function is a generator function?"
   ]
  },
  {
   "cell_type": "markdown",
   "id": "c5f7f115",
   "metadata": {},
   "source": [
    "Ans. If a function contains at least one yield statement (it may contain other yield or return statements), it becomes a generator function. Both yield and return will return some value from a function."
   ]
  },
  {
   "cell_type": "markdown",
   "id": "c60d2715",
   "metadata": {},
   "source": [
    "### Q. What is the purpose of a yield statement?"
   ]
  },
  {
   "cell_type": "markdown",
   "id": "0fe50bc0",
   "metadata": {},
   "source": [
    "Ans. A yield statement looks much like a return statement, except that instead of stopping execution of the function and\n",
    "returning, yield instead provides a value to the code looping over the generator and pauses execution of the generator function"
   ]
  },
  {
   "cell_type": "markdown",
   "id": "a374cc8f",
   "metadata": {},
   "source": [
    "### Q. What is the relationship between map calls and list comprehensions? Make a comparison and contrast between the two"
   ]
  },
  {
   "cell_type": "markdown",
   "id": "76f2e369",
   "metadata": {},
   "source": [
    "-  Map function:\n",
    "Suppose we have a function and we want to compute this function for different values in a single line of code . This is where map() function plays its role. map() function returns a map object(which is an iterator) of the results after applying the given function to each item of a given iterable (list, tuple etc.)\n",
    "\n",
    "If we already have a function defined, it is often good to use map For example, map(sum, myLists) is more neat than [sum(x) for x in myLists]. You gain the elegance of not having to make up a dummy variable (e.g. sum(x) for x... or sum(_) for _... or sum(readableName) for readableName...) which you have to type twice, just to iterate.\n",
    "\n",
    "-  List Comprehension:\n",
    "\n",
    "List Comprehension is a substitute for the lambda function, map(), filter() and reduce()\n",
    "\n",
    "-  Comparision :\n",
    "List comprehension is more concise and easier to read as compared to map\n",
    "List comprehension allows filtering. In map, we have no such facility\n",
    "For example, to print all even numbers in range of 100, we can write [n for n in range(100) if n%2 == 0]. There is no alternate for it in map 3. List comprehension are used when a list of results is required, where as map only returns a map object and does not return any list. 4. List comprehension is faster than map when we need to evaluate expressions that are too long or complicated to express 5. Map is faster in case of calling an already defined function (as no lambda is required)"
   ]
  },
  {
   "cell_type": "code",
   "execution_count": null,
   "id": "c1a040a9",
   "metadata": {},
   "outputs": [],
   "source": []
  }
 ],
 "metadata": {
  "kernelspec": {
   "display_name": "Python 3 (ipykernel)",
   "language": "python",
   "name": "python3"
  },
  "language_info": {
   "codemirror_mode": {
    "name": "ipython",
    "version": 3
   },
   "file_extension": ".py",
   "mimetype": "text/x-python",
   "name": "python",
   "nbconvert_exporter": "python",
   "pygments_lexer": "ipython3",
   "version": "3.9.13"
  }
 },
 "nbformat": 4,
 "nbformat_minor": 5
}
